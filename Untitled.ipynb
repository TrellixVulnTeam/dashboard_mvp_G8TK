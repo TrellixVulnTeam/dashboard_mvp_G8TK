{
 "cells": [
  {
   "cell_type": "code",
   "execution_count": 29,
   "id": "15e7d39d-06f2-4ff5-bc01-950abef26022",
   "metadata": {},
   "outputs": [
    {
     "data": {
      "application/vnd.plotly.v1+json": {
       "config": {
        "plotlyServerURL": "https://plot.ly"
       },
       "data": [
        {
         "fill": "toself",
         "fillcolor": "rgb(220, 0, 0)",
         "hoverinfo": "name",
         "legendgroup": "rgb(220, 0, 0)",
         "mode": "none",
         "name": "🔥🔥🔥🔥🔥",
         "type": "scatter",
         "x": [
          "2017-01-01",
          "2017-02-02",
          "2017-02-02",
          "2017-01-01",
          "2017-01-01",
          "2017-04-01",
          "2017-04-20",
          "2017-04-20",
          "2017-04-01"
         ],
         "y": [
          2.8,
          2.8,
          3.2,
          3.2,
          null,
          0.8,
          0.8,
          1.2,
          1.2
         ]
        },
        {
         "fill": "toself",
         "fillcolor": "rgb(231, 84, 128)",
         "hoverinfo": "name",
         "legendgroup": "rgb(231, 84, 128)",
         "mode": "none",
         "name": "🔥🔥🔥🔥",
         "type": "scatter",
         "x": [
          "2017-02-15",
          "2017-03-15",
          "2017-03-15",
          "2017-02-15",
          "2017-02-15",
          "2017-05-18",
          "2017-06-18",
          "2017-06-18",
          "2017-05-18"
         ],
         "y": [
          2.8,
          2.8,
          3.2,
          3.2,
          null,
          0.8,
          0.8,
          1.2,
          1.2
         ]
        },
        {
         "fill": "toself",
         "fillcolor": "rgb(255, 204, 0)",
         "hoverinfo": "name",
         "legendgroup": "rgb(255, 204, 0)",
         "mode": "none",
         "name": "🔥🔥",
         "type": "scatter",
         "x": [
          "2017-03-10",
          "2017-03-20",
          "2017-03-20",
          "2017-03-10",
          "2017-03-10",
          "2017-01-14",
          "2017-03-14",
          "2017-03-14",
          "2017-01-14"
         ],
         "y": [
          0.8,
          0.8,
          1.2,
          1.2,
          null,
          -0.2,
          -0.2,
          0.2,
          0.2
         ]
        },
        {
         "fill": "toself",
         "fillcolor": "rgb(255, 230, 0)",
         "hoverinfo": "name",
         "legendgroup": "rgb(255, 230, 0)",
         "mode": "none",
         "name": "🔥🔥🔥",
         "type": "scatter",
         "x": [
          "2017-01-23",
          "2017-02-17",
          "2017-02-17",
          "2017-01-23"
         ],
         "y": [
          1.8,
          1.8,
          2.2,
          2.2
         ]
        },
        {
         "fill": "toself",
         "fillcolor": "rgb(255, 255, 51)",
         "hoverinfo": "name",
         "legendgroup": "rgb(255, 255, 51)",
         "mode": "none",
         "name": "🔥",
         "type": "scatter",
         "x": [
          "2017-01-17",
          "2017-01-25",
          "2017-01-25",
          "2017-01-17"
         ],
         "y": [
          1.8,
          1.8,
          2.2,
          2.2
         ]
        },
        {
         "legendgroup": "rgb(220, 0, 0)",
         "marker": {
          "color": "rgb(220, 0, 0)",
          "opacity": 0,
          "size": 1
         },
         "mode": "markers",
         "name": "",
         "showlegend": false,
         "text": [
          "https://app.clickup.com/t/2575789/DEV-5552",
          "https://app.clickup.com/t/2575789/DEV-5552",
          "https://app.clickup.com/t/2575789/DEV-4440",
          "https://app.clickup.com/t/2575789/DEV-4440"
         ],
         "type": "scatter",
         "x": [
          "2017-01-01",
          "2017-02-02",
          "2017-04-01",
          "2017-04-20"
         ],
         "y": [
          3,
          3,
          1,
          1
         ]
        },
        {
         "legendgroup": "rgb(231, 84, 128)",
         "marker": {
          "color": "rgb(231, 84, 128)",
          "opacity": 0,
          "size": 1
         },
         "mode": "markers",
         "name": "",
         "showlegend": false,
         "text": [
          "https://app.clickup.com/t/2575789/DEV-5339",
          "https://app.clickup.com/t/2575789/DEV-5339",
          "https://app.clickup.com/t/2575789/DEV-5699",
          "https://app.clickup.com/t/2575789/DEV-5699"
         ],
         "type": "scatter",
         "x": [
          "2017-02-15",
          "2017-03-15",
          "2017-05-18",
          "2017-06-18"
         ],
         "y": [
          3,
          3,
          1,
          1
         ]
        },
        {
         "legendgroup": "rgb(255, 204, 0)",
         "marker": {
          "color": "rgb(255, 204, 0)",
          "opacity": 0,
          "size": 1
         },
         "mode": "markers",
         "name": "",
         "showlegend": false,
         "text": [
          "https://app.clickup.com/t/2575789/DEV-4545",
          "https://app.clickup.com/t/2575789/DEV-4545",
          "https://app.clickup.com/t/2575789/DEV-4445",
          "https://app.clickup.com/t/2575789/DEV-4445"
         ],
         "type": "scatter",
         "x": [
          "2017-03-10",
          "2017-03-20",
          "2017-01-14",
          "2017-03-14"
         ],
         "y": [
          1,
          1,
          0,
          0
         ]
        },
        {
         "legendgroup": "rgb(255, 230, 0)",
         "marker": {
          "color": "rgb(255, 230, 0)",
          "opacity": 0,
          "size": 1
         },
         "mode": "markers",
         "name": "",
         "showlegend": false,
         "text": [
          "https://app.clickup.com/t/2575789/DEV-4545",
          "https://app.clickup.com/t/2575789/DEV-4545"
         ],
         "type": "scatter",
         "x": [
          "2017-01-23",
          "2017-02-17"
         ],
         "y": [
          2,
          2
         ]
        },
        {
         "legendgroup": "rgb(255, 255, 51)",
         "marker": {
          "color": "rgb(255, 255, 51)",
          "opacity": 0,
          "size": 1
         },
         "mode": "markers",
         "name": "",
         "showlegend": false,
         "text": [
          "https://app.clickup.com/t/2575789/DEV-4545",
          "https://app.clickup.com/t/2575789/DEV-4545"
         ],
         "type": "scatter",
         "x": [
          "2017-01-17",
          "2017-01-25"
         ],
         "y": [
          2,
          2
         ]
        }
       ],
       "layout": {
        "autosize": true,
        "hovermode": "closest",
        "showlegend": true,
        "template": {
         "data": {
          "bar": [
           {
            "error_x": {
             "color": "#2a3f5f"
            },
            "error_y": {
             "color": "#2a3f5f"
            },
            "marker": {
             "line": {
              "color": "#E5ECF6",
              "width": 0.5
             },
             "pattern": {
              "fillmode": "overlay",
              "size": 10,
              "solidity": 0.2
             }
            },
            "type": "bar"
           }
          ],
          "barpolar": [
           {
            "marker": {
             "line": {
              "color": "#E5ECF6",
              "width": 0.5
             },
             "pattern": {
              "fillmode": "overlay",
              "size": 10,
              "solidity": 0.2
             }
            },
            "type": "barpolar"
           }
          ],
          "carpet": [
           {
            "aaxis": {
             "endlinecolor": "#2a3f5f",
             "gridcolor": "white",
             "linecolor": "white",
             "minorgridcolor": "white",
             "startlinecolor": "#2a3f5f"
            },
            "baxis": {
             "endlinecolor": "#2a3f5f",
             "gridcolor": "white",
             "linecolor": "white",
             "minorgridcolor": "white",
             "startlinecolor": "#2a3f5f"
            },
            "type": "carpet"
           }
          ],
          "choropleth": [
           {
            "colorbar": {
             "outlinewidth": 0,
             "ticks": ""
            },
            "type": "choropleth"
           }
          ],
          "contour": [
           {
            "colorbar": {
             "outlinewidth": 0,
             "ticks": ""
            },
            "colorscale": [
             [
              0,
              "#0d0887"
             ],
             [
              0.1111111111111111,
              "#46039f"
             ],
             [
              0.2222222222222222,
              "#7201a8"
             ],
             [
              0.3333333333333333,
              "#9c179e"
             ],
             [
              0.4444444444444444,
              "#bd3786"
             ],
             [
              0.5555555555555556,
              "#d8576b"
             ],
             [
              0.6666666666666666,
              "#ed7953"
             ],
             [
              0.7777777777777778,
              "#fb9f3a"
             ],
             [
              0.8888888888888888,
              "#fdca26"
             ],
             [
              1,
              "#f0f921"
             ]
            ],
            "type": "contour"
           }
          ],
          "contourcarpet": [
           {
            "colorbar": {
             "outlinewidth": 0,
             "ticks": ""
            },
            "type": "contourcarpet"
           }
          ],
          "heatmap": [
           {
            "colorbar": {
             "outlinewidth": 0,
             "ticks": ""
            },
            "colorscale": [
             [
              0,
              "#0d0887"
             ],
             [
              0.1111111111111111,
              "#46039f"
             ],
             [
              0.2222222222222222,
              "#7201a8"
             ],
             [
              0.3333333333333333,
              "#9c179e"
             ],
             [
              0.4444444444444444,
              "#bd3786"
             ],
             [
              0.5555555555555556,
              "#d8576b"
             ],
             [
              0.6666666666666666,
              "#ed7953"
             ],
             [
              0.7777777777777778,
              "#fb9f3a"
             ],
             [
              0.8888888888888888,
              "#fdca26"
             ],
             [
              1,
              "#f0f921"
             ]
            ],
            "type": "heatmap"
           }
          ],
          "heatmapgl": [
           {
            "colorbar": {
             "outlinewidth": 0,
             "ticks": ""
            },
            "colorscale": [
             [
              0,
              "#0d0887"
             ],
             [
              0.1111111111111111,
              "#46039f"
             ],
             [
              0.2222222222222222,
              "#7201a8"
             ],
             [
              0.3333333333333333,
              "#9c179e"
             ],
             [
              0.4444444444444444,
              "#bd3786"
             ],
             [
              0.5555555555555556,
              "#d8576b"
             ],
             [
              0.6666666666666666,
              "#ed7953"
             ],
             [
              0.7777777777777778,
              "#fb9f3a"
             ],
             [
              0.8888888888888888,
              "#fdca26"
             ],
             [
              1,
              "#f0f921"
             ]
            ],
            "type": "heatmapgl"
           }
          ],
          "histogram": [
           {
            "marker": {
             "pattern": {
              "fillmode": "overlay",
              "size": 10,
              "solidity": 0.2
             }
            },
            "type": "histogram"
           }
          ],
          "histogram2d": [
           {
            "colorbar": {
             "outlinewidth": 0,
             "ticks": ""
            },
            "colorscale": [
             [
              0,
              "#0d0887"
             ],
             [
              0.1111111111111111,
              "#46039f"
             ],
             [
              0.2222222222222222,
              "#7201a8"
             ],
             [
              0.3333333333333333,
              "#9c179e"
             ],
             [
              0.4444444444444444,
              "#bd3786"
             ],
             [
              0.5555555555555556,
              "#d8576b"
             ],
             [
              0.6666666666666666,
              "#ed7953"
             ],
             [
              0.7777777777777778,
              "#fb9f3a"
             ],
             [
              0.8888888888888888,
              "#fdca26"
             ],
             [
              1,
              "#f0f921"
             ]
            ],
            "type": "histogram2d"
           }
          ],
          "histogram2dcontour": [
           {
            "colorbar": {
             "outlinewidth": 0,
             "ticks": ""
            },
            "colorscale": [
             [
              0,
              "#0d0887"
             ],
             [
              0.1111111111111111,
              "#46039f"
             ],
             [
              0.2222222222222222,
              "#7201a8"
             ],
             [
              0.3333333333333333,
              "#9c179e"
             ],
             [
              0.4444444444444444,
              "#bd3786"
             ],
             [
              0.5555555555555556,
              "#d8576b"
             ],
             [
              0.6666666666666666,
              "#ed7953"
             ],
             [
              0.7777777777777778,
              "#fb9f3a"
             ],
             [
              0.8888888888888888,
              "#fdca26"
             ],
             [
              1,
              "#f0f921"
             ]
            ],
            "type": "histogram2dcontour"
           }
          ],
          "mesh3d": [
           {
            "colorbar": {
             "outlinewidth": 0,
             "ticks": ""
            },
            "type": "mesh3d"
           }
          ],
          "parcoords": [
           {
            "line": {
             "colorbar": {
              "outlinewidth": 0,
              "ticks": ""
             }
            },
            "type": "parcoords"
           }
          ],
          "pie": [
           {
            "automargin": true,
            "type": "pie"
           }
          ],
          "scatter": [
           {
            "marker": {
             "colorbar": {
              "outlinewidth": 0,
              "ticks": ""
             }
            },
            "type": "scatter"
           }
          ],
          "scatter3d": [
           {
            "line": {
             "colorbar": {
              "outlinewidth": 0,
              "ticks": ""
             }
            },
            "marker": {
             "colorbar": {
              "outlinewidth": 0,
              "ticks": ""
             }
            },
            "type": "scatter3d"
           }
          ],
          "scattercarpet": [
           {
            "marker": {
             "colorbar": {
              "outlinewidth": 0,
              "ticks": ""
             }
            },
            "type": "scattercarpet"
           }
          ],
          "scattergeo": [
           {
            "marker": {
             "colorbar": {
              "outlinewidth": 0,
              "ticks": ""
             }
            },
            "type": "scattergeo"
           }
          ],
          "scattergl": [
           {
            "marker": {
             "colorbar": {
              "outlinewidth": 0,
              "ticks": ""
             }
            },
            "type": "scattergl"
           }
          ],
          "scattermapbox": [
           {
            "marker": {
             "colorbar": {
              "outlinewidth": 0,
              "ticks": ""
             }
            },
            "type": "scattermapbox"
           }
          ],
          "scatterpolar": [
           {
            "marker": {
             "colorbar": {
              "outlinewidth": 0,
              "ticks": ""
             }
            },
            "type": "scatterpolar"
           }
          ],
          "scatterpolargl": [
           {
            "marker": {
             "colorbar": {
              "outlinewidth": 0,
              "ticks": ""
             }
            },
            "type": "scatterpolargl"
           }
          ],
          "scatterternary": [
           {
            "marker": {
             "colorbar": {
              "outlinewidth": 0,
              "ticks": ""
             }
            },
            "type": "scatterternary"
           }
          ],
          "surface": [
           {
            "colorbar": {
             "outlinewidth": 0,
             "ticks": ""
            },
            "colorscale": [
             [
              0,
              "#0d0887"
             ],
             [
              0.1111111111111111,
              "#46039f"
             ],
             [
              0.2222222222222222,
              "#7201a8"
             ],
             [
              0.3333333333333333,
              "#9c179e"
             ],
             [
              0.4444444444444444,
              "#bd3786"
             ],
             [
              0.5555555555555556,
              "#d8576b"
             ],
             [
              0.6666666666666666,
              "#ed7953"
             ],
             [
              0.7777777777777778,
              "#fb9f3a"
             ],
             [
              0.8888888888888888,
              "#fdca26"
             ],
             [
              1,
              "#f0f921"
             ]
            ],
            "type": "surface"
           }
          ],
          "table": [
           {
            "cells": {
             "fill": {
              "color": "#EBF0F8"
             },
             "line": {
              "color": "white"
             }
            },
            "header": {
             "fill": {
              "color": "#C8D4E3"
             },
             "line": {
              "color": "white"
             }
            },
            "type": "table"
           }
          ]
         },
         "layout": {
          "annotationdefaults": {
           "arrowcolor": "#2a3f5f",
           "arrowhead": 0,
           "arrowwidth": 1
          },
          "autotypenumbers": "strict",
          "coloraxis": {
           "colorbar": {
            "outlinewidth": 0,
            "ticks": ""
           }
          },
          "colorscale": {
           "diverging": [
            [
             0,
             "#8e0152"
            ],
            [
             0.1,
             "#c51b7d"
            ],
            [
             0.2,
             "#de77ae"
            ],
            [
             0.3,
             "#f1b6da"
            ],
            [
             0.4,
             "#fde0ef"
            ],
            [
             0.5,
             "#f7f7f7"
            ],
            [
             0.6,
             "#e6f5d0"
            ],
            [
             0.7,
             "#b8e186"
            ],
            [
             0.8,
             "#7fbc41"
            ],
            [
             0.9,
             "#4d9221"
            ],
            [
             1,
             "#276419"
            ]
           ],
           "sequential": [
            [
             0,
             "#0d0887"
            ],
            [
             0.1111111111111111,
             "#46039f"
            ],
            [
             0.2222222222222222,
             "#7201a8"
            ],
            [
             0.3333333333333333,
             "#9c179e"
            ],
            [
             0.4444444444444444,
             "#bd3786"
            ],
            [
             0.5555555555555556,
             "#d8576b"
            ],
            [
             0.6666666666666666,
             "#ed7953"
            ],
            [
             0.7777777777777778,
             "#fb9f3a"
            ],
            [
             0.8888888888888888,
             "#fdca26"
            ],
            [
             1,
             "#f0f921"
            ]
           ],
           "sequentialminus": [
            [
             0,
             "#0d0887"
            ],
            [
             0.1111111111111111,
             "#46039f"
            ],
            [
             0.2222222222222222,
             "#7201a8"
            ],
            [
             0.3333333333333333,
             "#9c179e"
            ],
            [
             0.4444444444444444,
             "#bd3786"
            ],
            [
             0.5555555555555556,
             "#d8576b"
            ],
            [
             0.6666666666666666,
             "#ed7953"
            ],
            [
             0.7777777777777778,
             "#fb9f3a"
            ],
            [
             0.8888888888888888,
             "#fdca26"
            ],
            [
             1,
             "#f0f921"
            ]
           ]
          },
          "colorway": [
           "#636efa",
           "#EF553B",
           "#00cc96",
           "#ab63fa",
           "#FFA15A",
           "#19d3f3",
           "#FF6692",
           "#B6E880",
           "#FF97FF",
           "#FECB52"
          ],
          "font": {
           "color": "#2a3f5f"
          },
          "geo": {
           "bgcolor": "white",
           "lakecolor": "white",
           "landcolor": "#E5ECF6",
           "showlakes": true,
           "showland": true,
           "subunitcolor": "white"
          },
          "hoverlabel": {
           "align": "left"
          },
          "hovermode": "closest",
          "mapbox": {
           "style": "light"
          },
          "paper_bgcolor": "white",
          "plot_bgcolor": "#E5ECF6",
          "polar": {
           "angularaxis": {
            "gridcolor": "white",
            "linecolor": "white",
            "ticks": ""
           },
           "bgcolor": "#E5ECF6",
           "radialaxis": {
            "gridcolor": "white",
            "linecolor": "white",
            "ticks": ""
           }
          },
          "scene": {
           "xaxis": {
            "backgroundcolor": "#E5ECF6",
            "gridcolor": "white",
            "gridwidth": 2,
            "linecolor": "white",
            "showbackground": true,
            "ticks": "",
            "zerolinecolor": "white"
           },
           "yaxis": {
            "backgroundcolor": "#E5ECF6",
            "gridcolor": "white",
            "gridwidth": 2,
            "linecolor": "white",
            "showbackground": true,
            "ticks": "",
            "zerolinecolor": "white"
           },
           "zaxis": {
            "backgroundcolor": "#E5ECF6",
            "gridcolor": "white",
            "gridwidth": 2,
            "linecolor": "white",
            "showbackground": true,
            "ticks": "",
            "zerolinecolor": "white"
           }
          },
          "shapedefaults": {
           "line": {
            "color": "#2a3f5f"
           }
          },
          "ternary": {
           "aaxis": {
            "gridcolor": "white",
            "linecolor": "white",
            "ticks": ""
           },
           "baxis": {
            "gridcolor": "white",
            "linecolor": "white",
            "ticks": ""
           },
           "bgcolor": "#E5ECF6",
           "caxis": {
            "gridcolor": "white",
            "linecolor": "white",
            "ticks": ""
           }
          },
          "title": {
           "x": 0.05
          },
          "xaxis": {
           "automargin": true,
           "gridcolor": "white",
           "linecolor": "white",
           "ticks": "",
           "title": {
            "standoff": 15
           },
           "zerolinecolor": "white",
           "zerolinewidth": 2
          },
          "yaxis": {
           "automargin": true,
           "gridcolor": "white",
           "linecolor": "white",
           "ticks": "",
           "title": {
            "standoff": 15
           },
           "zerolinecolor": "white",
           "zerolinewidth": 2
          }
         }
        },
        "title": {
         "text": "Gantt Chart"
        },
        "xaxis": {
         "autorange": true,
         "range": [
          "2016-12-22 08:00:10.282",
          "2017-06-27 15:59:49.718"
         ],
         "rangeselector": {
          "buttons": [
           {
            "count": 7,
            "label": "1w",
            "step": "day",
            "stepmode": "backward"
           },
           {
            "count": 1,
            "label": "1m",
            "step": "month",
            "stepmode": "backward"
           },
           {
            "count": 6,
            "label": "6m",
            "step": "month",
            "stepmode": "backward"
           },
           {
            "count": 1,
            "label": "YTD",
            "step": "year",
            "stepmode": "todate"
           },
           {
            "count": 1,
            "label": "1y",
            "step": "year",
            "stepmode": "backward"
           },
           {
            "step": "all"
           }
          ]
         },
         "showgrid": false,
         "type": "date",
         "zeroline": false
        },
        "yaxis": {
         "autorange": false,
         "range": [
          -1,
          5
         ],
         "showgrid": false,
         "ticktext": [
          "Shopify",
          "Facebook Ads",
          "YouTube",
          "MySQL"
         ],
         "tickvals": [
          0,
          1,
          2,
          3
         ],
         "type": "linear",
         "zeroline": false
        }
       }
      },
      "image/png": "[encoded data removed]",
      "text/html": [
       "<div>                            <div id=\"f2bf05e0-9254-41e8-9db7-300017305b0a\" class=\"plotly-graph-div\" style=\"height:600px; width:100%;\"></div>            <script type=\"text/javascript\">                require([\"plotly\"], function(Plotly) {                    window.PLOTLYENV=window.PLOTLYENV || {};                                    if (document.getElementById(\"f2bf05e0-9254-41e8-9db7-300017305b0a\")) {                    Plotly.newPlot(                        \"f2bf05e0-9254-41e8-9db7-300017305b0a\",                        [{\"fill\":\"toself\",\"fillcolor\":\"rgb(220, 0, 0)\",\"hoverinfo\":\"name\",\"legendgroup\":\"rgb(220, 0, 0)\",\"mode\":\"none\",\"name\":\"\\ud83d\\udd25\\ud83d\\udd25\\ud83d\\udd25\\ud83d\\udd25\\ud83d\\udd25\",\"x\":[\"2017-01-01\",\"2017-02-02\",\"2017-02-02\",\"2017-01-01\",\"2017-01-01\",\"2017-04-01\",\"2017-04-20\",\"2017-04-20\",\"2017-04-01\"],\"y\":[2.8,2.8,3.2,3.2,null,0.8,0.8,1.2,1.2],\"type\":\"scatter\"},{\"fill\":\"toself\",\"fillcolor\":\"rgb(231, 84, 128)\",\"hoverinfo\":\"name\",\"legendgroup\":\"rgb(231, 84, 128)\",\"mode\":\"none\",\"name\":\"\\ud83d\\udd25\\ud83d\\udd25\\ud83d\\udd25\\ud83d\\udd25\",\"x\":[\"2017-02-15\",\"2017-03-15\",\"2017-03-15\",\"2017-02-15\",\"2017-02-15\",\"2017-05-18\",\"2017-06-18\",\"2017-06-18\",\"2017-05-18\"],\"y\":[2.8,2.8,3.2,3.2,null,0.8,0.8,1.2,1.2],\"type\":\"scatter\"},{\"fill\":\"toself\",\"fillcolor\":\"rgb(255, 204, 0)\",\"hoverinfo\":\"name\",\"legendgroup\":\"rgb(255, 204, 0)\",\"mode\":\"none\",\"name\":\"\\ud83d\\udd25\\ud83d\\udd25\",\"x\":[\"2017-03-10\",\"2017-03-20\",\"2017-03-20\",\"2017-03-10\",\"2017-03-10\",\"2017-01-14\",\"2017-03-14\",\"2017-03-14\",\"2017-01-14\"],\"y\":[0.8,0.8,1.2,1.2,null,-0.2,-0.2,0.2,0.2],\"type\":\"scatter\"},{\"fill\":\"toself\",\"fillcolor\":\"rgb(255, 230, 0)\",\"hoverinfo\":\"name\",\"legendgroup\":\"rgb(255, 230, 0)\",\"mode\":\"none\",\"name\":\"\\ud83d\\udd25\\ud83d\\udd25\\ud83d\\udd25\",\"x\":[\"2017-01-23\",\"2017-02-17\",\"2017-02-17\",\"2017-01-23\"],\"y\":[1.8,1.8,2.2,2.2],\"type\":\"scatter\"},{\"fill\":\"toself\",\"fillcolor\":\"rgb(255, 255, 51)\",\"hoverinfo\":\"name\",\"legendgroup\":\"rgb(255, 255, 51)\",\"mode\":\"none\",\"name\":\"\\ud83d\\udd25\",\"x\":[\"2017-01-17\",\"2017-01-25\",\"2017-01-25\",\"2017-01-17\"],\"y\":[1.8,1.8,2.2,2.2],\"type\":\"scatter\"},{\"legendgroup\":\"rgb(220, 0, 0)\",\"marker\":{\"color\":\"rgb(220, 0, 0)\",\"opacity\":0,\"size\":1},\"mode\":\"markers\",\"name\":\"\",\"showlegend\":false,\"text\":[\"https://app.clickup.com/t/2575789/DEV-5552\",\"https://app.clickup.com/t/2575789/DEV-5552\",\"https://app.clickup.com/t/2575789/DEV-4440\",\"https://app.clickup.com/t/2575789/DEV-4440\"],\"x\":[\"2017-01-01\",\"2017-02-02\",\"2017-04-01\",\"2017-04-20\"],\"y\":[3,3,1,1],\"type\":\"scatter\"},{\"legendgroup\":\"rgb(231, 84, 128)\",\"marker\":{\"color\":\"rgb(231, 84, 128)\",\"opacity\":0,\"size\":1},\"mode\":\"markers\",\"name\":\"\",\"showlegend\":false,\"text\":[\"https://app.clickup.com/t/2575789/DEV-5339\",\"https://app.clickup.com/t/2575789/DEV-5339\",\"https://app.clickup.com/t/2575789/DEV-5699\",\"https://app.clickup.com/t/2575789/DEV-5699\"],\"x\":[\"2017-02-15\",\"2017-03-15\",\"2017-05-18\",\"2017-06-18\"],\"y\":[3,3,1,1],\"type\":\"scatter\"},{\"legendgroup\":\"rgb(255, 204, 0)\",\"marker\":{\"color\":\"rgb(255, 204, 0)\",\"opacity\":0,\"size\":1},\"mode\":\"markers\",\"name\":\"\",\"showlegend\":false,\"text\":[\"https://app.clickup.com/t/2575789/DEV-4545\",\"https://app.clickup.com/t/2575789/DEV-4545\",\"https://app.clickup.com/t/2575789/DEV-4445\",\"https://app.clickup.com/t/2575789/DEV-4445\"],\"x\":[\"2017-03-10\",\"2017-03-20\",\"2017-01-14\",\"2017-03-14\"],\"y\":[1,1,0,0],\"type\":\"scatter\"},{\"legendgroup\":\"rgb(255, 230, 0)\",\"marker\":{\"color\":\"rgb(255, 230, 0)\",\"opacity\":0,\"size\":1},\"mode\":\"markers\",\"name\":\"\",\"showlegend\":false,\"text\":[\"https://app.clickup.com/t/2575789/DEV-4545\",\"https://app.clickup.com/t/2575789/DEV-4545\"],\"x\":[\"2017-01-23\",\"2017-02-17\"],\"y\":[2,2],\"type\":\"scatter\"},{\"legendgroup\":\"rgb(255, 255, 51)\",\"marker\":{\"color\":\"rgb(255, 255, 51)\",\"opacity\":0,\"size\":1},\"mode\":\"markers\",\"name\":\"\",\"showlegend\":false,\"text\":[\"https://app.clickup.com/t/2575789/DEV-4545\",\"https://app.clickup.com/t/2575789/DEV-4545\"],\"x\":[\"2017-01-17\",\"2017-01-25\"],\"y\":[2,2],\"type\":\"scatter\"}],                        {\"height\":600,\"hovermode\":\"closest\",\"showlegend\":true,\"title\":{\"text\":\"Gantt Chart\"},\"xaxis\":{\"rangeselector\":{\"buttons\":[{\"count\":7,\"label\":\"1w\",\"step\":\"day\",\"stepmode\":\"backward\"},{\"count\":1,\"label\":\"1m\",\"step\":\"month\",\"stepmode\":\"backward\"},{\"count\":6,\"label\":\"6m\",\"step\":\"month\",\"stepmode\":\"backward\"},{\"count\":1,\"label\":\"YTD\",\"step\":\"year\",\"stepmode\":\"todate\"},{\"count\":1,\"label\":\"1y\",\"step\":\"year\",\"stepmode\":\"backward\"},{\"step\":\"all\"}]},\"showgrid\":false,\"type\":\"date\",\"zeroline\":false},\"yaxis\":{\"autorange\":false,\"range\":[-1,5],\"showgrid\":false,\"ticktext\":[\"Shopify\",\"Facebook Ads\",\"YouTube\",\"MySQL\"],\"tickvals\":[0,1,2,3],\"zeroline\":false},\"template\":{\"data\":{\"bar\":[{\"error_x\":{\"color\":\"#2a3f5f\"},\"error_y\":{\"color\":\"#2a3f5f\"},\"marker\":{\"line\":{\"color\":\"#E5ECF6\",\"width\":0.5},\"pattern\":{\"fillmode\":\"overlay\",\"size\":10,\"solidity\":0.2}},\"type\":\"bar\"}],\"barpolar\":[{\"marker\":{\"line\":{\"color\":\"#E5ECF6\",\"width\":0.5},\"pattern\":{\"fillmode\":\"overlay\",\"size\":10,\"solidity\":0.2}},\"type\":\"barpolar\"}],\"carpet\":[{\"aaxis\":{\"endlinecolor\":\"#2a3f5f\",\"gridcolor\":\"white\",\"linecolor\":\"white\",\"minorgridcolor\":\"white\",\"startlinecolor\":\"#2a3f5f\"},\"baxis\":{\"endlinecolor\":\"#2a3f5f\",\"gridcolor\":\"white\",\"linecolor\":\"white\",\"minorgridcolor\":\"white\",\"startlinecolor\":\"#2a3f5f\"},\"type\":\"carpet\"}],\"choropleth\":[{\"colorbar\":{\"outlinewidth\":0,\"ticks\":\"\"},\"type\":\"choropleth\"}],\"contour\":[{\"colorbar\":{\"outlinewidth\":0,\"ticks\":\"\"},\"colorscale\":[[0.0,\"#0d0887\"],[0.1111111111111111,\"#46039f\"],[0.2222222222222222,\"#7201a8\"],[0.3333333333333333,\"#9c179e\"],[0.4444444444444444,\"#bd3786\"],[0.5555555555555556,\"#d8576b\"],[0.6666666666666666,\"#ed7953\"],[0.7777777777777778,\"#fb9f3a\"],[0.8888888888888888,\"#fdca26\"],[1.0,\"#f0f921\"]],\"type\":\"contour\"}],\"contourcarpet\":[{\"colorbar\":{\"outlinewidth\":0,\"ticks\":\"\"},\"type\":\"contourcarpet\"}],\"heatmap\":[{\"colorbar\":{\"outlinewidth\":0,\"ticks\":\"\"},\"colorscale\":[[0.0,\"#0d0887\"],[0.1111111111111111,\"#46039f\"],[0.2222222222222222,\"#7201a8\"],[0.3333333333333333,\"#9c179e\"],[0.4444444444444444,\"#bd3786\"],[0.5555555555555556,\"#d8576b\"],[0.6666666666666666,\"#ed7953\"],[0.7777777777777778,\"#fb9f3a\"],[0.8888888888888888,\"#fdca26\"],[1.0,\"#f0f921\"]],\"type\":\"heatmap\"}],\"heatmapgl\":[{\"colorbar\":{\"outlinewidth\":0,\"ticks\":\"\"},\"colorscale\":[[0.0,\"#0d0887\"],[0.1111111111111111,\"#46039f\"],[0.2222222222222222,\"#7201a8\"],[0.3333333333333333,\"#9c179e\"],[0.4444444444444444,\"#bd3786\"],[0.5555555555555556,\"#d8576b\"],[0.6666666666666666,\"#ed7953\"],[0.7777777777777778,\"#fb9f3a\"],[0.8888888888888888,\"#fdca26\"],[1.0,\"#f0f921\"]],\"type\":\"heatmapgl\"}],\"histogram\":[{\"marker\":{\"pattern\":{\"fillmode\":\"overlay\",\"size\":10,\"solidity\":0.2}},\"type\":\"histogram\"}],\"histogram2d\":[{\"colorbar\":{\"outlinewidth\":0,\"ticks\":\"\"},\"colorscale\":[[0.0,\"#0d0887\"],[0.1111111111111111,\"#46039f\"],[0.2222222222222222,\"#7201a8\"],[0.3333333333333333,\"#9c179e\"],[0.4444444444444444,\"#bd3786\"],[0.5555555555555556,\"#d8576b\"],[0.6666666666666666,\"#ed7953\"],[0.7777777777777778,\"#fb9f3a\"],[0.8888888888888888,\"#fdca26\"],[1.0,\"#f0f921\"]],\"type\":\"histogram2d\"}],\"histogram2dcontour\":[{\"colorbar\":{\"outlinewidth\":0,\"ticks\":\"\"},\"colorscale\":[[0.0,\"#0d0887\"],[0.1111111111111111,\"#46039f\"],[0.2222222222222222,\"#7201a8\"],[0.3333333333333333,\"#9c179e\"],[0.4444444444444444,\"#bd3786\"],[0.5555555555555556,\"#d8576b\"],[0.6666666666666666,\"#ed7953\"],[0.7777777777777778,\"#fb9f3a\"],[0.8888888888888888,\"#fdca26\"],[1.0,\"#f0f921\"]],\"type\":\"histogram2dcontour\"}],\"mesh3d\":[{\"colorbar\":{\"outlinewidth\":0,\"ticks\":\"\"},\"type\":\"mesh3d\"}],\"parcoords\":[{\"line\":{\"colorbar\":{\"outlinewidth\":0,\"ticks\":\"\"}},\"type\":\"parcoords\"}],\"pie\":[{\"automargin\":true,\"type\":\"pie\"}],\"scatter\":[{\"marker\":{\"colorbar\":{\"outlinewidth\":0,\"ticks\":\"\"}},\"type\":\"scatter\"}],\"scatter3d\":[{\"line\":{\"colorbar\":{\"outlinewidth\":0,\"ticks\":\"\"}},\"marker\":{\"colorbar\":{\"outlinewidth\":0,\"ticks\":\"\"}},\"type\":\"scatter3d\"}],\"scattercarpet\":[{\"marker\":{\"colorbar\":{\"outlinewidth\":0,\"ticks\":\"\"}},\"type\":\"scattercarpet\"}],\"scattergeo\":[{\"marker\":{\"colorbar\":{\"outlinewidth\":0,\"ticks\":\"\"}},\"type\":\"scattergeo\"}],\"scattergl\":[{\"marker\":{\"colorbar\":{\"outlinewidth\":0,\"ticks\":\"\"}},\"type\":\"scattergl\"}],\"scattermapbox\":[{\"marker\":{\"colorbar\":{\"outlinewidth\":0,\"ticks\":\"\"}},\"type\":\"scattermapbox\"}],\"scatterpolar\":[{\"marker\":{\"colorbar\":{\"outlinewidth\":0,\"ticks\":\"\"}},\"type\":\"scatterpolar\"}],\"scatterpolargl\":[{\"marker\":{\"colorbar\":{\"outlinewidth\":0,\"ticks\":\"\"}},\"type\":\"scatterpolargl\"}],\"scatterternary\":[{\"marker\":{\"colorbar\":{\"outlinewidth\":0,\"ticks\":\"\"}},\"type\":\"scatterternary\"}],\"surface\":[{\"colorbar\":{\"outlinewidth\":0,\"ticks\":\"\"},\"colorscale\":[[0.0,\"#0d0887\"],[0.1111111111111111,\"#46039f\"],[0.2222222222222222,\"#7201a8\"],[0.3333333333333333,\"#9c179e\"],[0.4444444444444444,\"#bd3786\"],[0.5555555555555556,\"#d8576b\"],[0.6666666666666666,\"#ed7953\"],[0.7777777777777778,\"#fb9f3a\"],[0.8888888888888888,\"#fdca26\"],[1.0,\"#f0f921\"]],\"type\":\"surface\"}],\"table\":[{\"cells\":{\"fill\":{\"color\":\"#EBF0F8\"},\"line\":{\"color\":\"white\"}},\"header\":{\"fill\":{\"color\":\"#C8D4E3\"},\"line\":{\"color\":\"white\"}},\"type\":\"table\"}]},\"layout\":{\"annotationdefaults\":{\"arrowcolor\":\"#2a3f5f\",\"arrowhead\":0,\"arrowwidth\":1},\"autotypenumbers\":\"strict\",\"coloraxis\":{\"colorbar\":{\"outlinewidth\":0,\"ticks\":\"\"}},\"colorscale\":{\"diverging\":[[0,\"#8e0152\"],[0.1,\"#c51b7d\"],[0.2,\"#de77ae\"],[0.3,\"#f1b6da\"],[0.4,\"#fde0ef\"],[0.5,\"#f7f7f7\"],[0.6,\"#e6f5d0\"],[0.7,\"#b8e186\"],[0.8,\"#7fbc41\"],[0.9,\"#4d9221\"],[1,\"#276419\"]],\"sequential\":[[0.0,\"#0d0887\"],[0.1111111111111111,\"#46039f\"],[0.2222222222222222,\"#7201a8\"],[0.3333333333333333,\"#9c179e\"],[0.4444444444444444,\"#bd3786\"],[0.5555555555555556,\"#d8576b\"],[0.6666666666666666,\"#ed7953\"],[0.7777777777777778,\"#fb9f3a\"],[0.8888888888888888,\"#fdca26\"],[1.0,\"#f0f921\"]],\"sequentialminus\":[[0.0,\"#0d0887\"],[0.1111111111111111,\"#46039f\"],[0.2222222222222222,\"#7201a8\"],[0.3333333333333333,\"#9c179e\"],[0.4444444444444444,\"#bd3786\"],[0.5555555555555556,\"#d8576b\"],[0.6666666666666666,\"#ed7953\"],[0.7777777777777778,\"#fb9f3a\"],[0.8888888888888888,\"#fdca26\"],[1.0,\"#f0f921\"]]},\"colorway\":[\"#636efa\",\"#EF553B\",\"#00cc96\",\"#ab63fa\",\"#FFA15A\",\"#19d3f3\",\"#FF6692\",\"#B6E880\",\"#FF97FF\",\"#FECB52\"],\"font\":{\"color\":\"#2a3f5f\"},\"geo\":{\"bgcolor\":\"white\",\"lakecolor\":\"white\",\"landcolor\":\"#E5ECF6\",\"showlakes\":true,\"showland\":true,\"subunitcolor\":\"white\"},\"hoverlabel\":{\"align\":\"left\"},\"hovermode\":\"closest\",\"mapbox\":{\"style\":\"light\"},\"paper_bgcolor\":\"white\",\"plot_bgcolor\":\"#E5ECF6\",\"polar\":{\"angularaxis\":{\"gridcolor\":\"white\",\"linecolor\":\"white\",\"ticks\":\"\"},\"bgcolor\":\"#E5ECF6\",\"radialaxis\":{\"gridcolor\":\"white\",\"linecolor\":\"white\",\"ticks\":\"\"}},\"scene\":{\"xaxis\":{\"backgroundcolor\":\"#E5ECF6\",\"gridcolor\":\"white\",\"gridwidth\":2,\"linecolor\":\"white\",\"showbackground\":true,\"ticks\":\"\",\"zerolinecolor\":\"white\"},\"yaxis\":{\"backgroundcolor\":\"#E5ECF6\",\"gridcolor\":\"white\",\"gridwidth\":2,\"linecolor\":\"white\",\"showbackground\":true,\"ticks\":\"\",\"zerolinecolor\":\"white\"},\"zaxis\":{\"backgroundcolor\":\"#E5ECF6\",\"gridcolor\":\"white\",\"gridwidth\":2,\"linecolor\":\"white\",\"showbackground\":true,\"ticks\":\"\",\"zerolinecolor\":\"white\"}},\"shapedefaults\":{\"line\":{\"color\":\"#2a3f5f\"}},\"ternary\":{\"aaxis\":{\"gridcolor\":\"white\",\"linecolor\":\"white\",\"ticks\":\"\"},\"baxis\":{\"gridcolor\":\"white\",\"linecolor\":\"white\",\"ticks\":\"\"},\"bgcolor\":\"#E5ECF6\",\"caxis\":{\"gridcolor\":\"white\",\"linecolor\":\"white\",\"ticks\":\"\"}},\"title\":{\"x\":0.05},\"xaxis\":{\"automargin\":true,\"gridcolor\":\"white\",\"linecolor\":\"white\",\"ticks\":\"\",\"title\":{\"standoff\":15},\"zerolinecolor\":\"white\",\"zerolinewidth\":2},\"yaxis\":{\"automargin\":true,\"gridcolor\":\"white\",\"linecolor\":\"white\",\"ticks\":\"\",\"title\":{\"standoff\":15},\"zerolinecolor\":\"white\",\"zerolinewidth\":2}}}},                        {\"responsive\": true}                    ).then(function(){\n",
       "                            \n",
       "var gd = document.getElementById('f2bf05e0-9254-41e8-9db7-300017305b0a');\n",
       "var x = new MutationObserver(function (mutations, observer) {{\n",
       "        var display = window.getComputedStyle(gd).display;\n",
       "        if (!display || display === 'none') {{\n",
       "            console.log([gd, 'removed!']);\n",
       "            Plotly.purge(gd);\n",
       "            observer.disconnect();\n",
       "        }}\n",
       "}});\n",
       "\n",
       "// Listen for the removal of the full notebook cells\n",
       "var notebookContainer = gd.closest('#notebook-container');\n",
       "if (notebookContainer) {{\n",
       "    x.observe(notebookContainer, {childList: true});\n",
       "}}\n",
       "\n",
       "// Listen for the clearing of the current output cell\n",
       "var outputEl = gd.closest('.output');\n",
       "if (outputEl) {{\n",
       "    x.observe(outputEl, {childList: true});\n",
       "}}\n",
       "\n",
       "                        })                };                });            </script>        </div>"
      ]
     },
     "metadata": {},
     "output_type": "display_data"
    }
   ],
   "source": [
    "import plotly.figure_factory as ff\n",
    "\n",
    "df = [dict(Task=\"MySQL\", Start='2017-01-01', Finish='2017-02-02', Resource='🔥🔥🔥🔥🔥', Description='https://app.clickup.com/t/2575789/DEV-5552'),\n",
    "      dict(Task=\"MySQL\", Start='2017-02-15', Finish='2017-03-15', Resource='🔥🔥🔥🔥', Description='https://app.clickup.com/t/2575789/DEV-5339'),\n",
    "      dict(Task=\"YouTube\", Start='2017-01-23', Finish='2017-02-17', Resource='🔥🔥🔥', Description='https://app.clickup.com/t/2575789/DEV-4545'),\n",
    "      dict(Task=\"YouTube\", Start='2017-01-17', Finish='2017-01-25', Resource='🔥', Description='https://app.clickup.com/t/2575789/DEV-4545'),\n",
    "      dict(Task=\"Facebook Ads\", Start='2017-03-10', Finish='2017-03-20', Resource='🔥🔥', Description='https://app.clickup.com/t/2575789/DEV-4545'),\n",
    "      dict(Task=\"Facebook Ads\", Start='2017-04-01', Finish='2017-04-20', Resource='🔥🔥🔥🔥🔥', Description='https://app.clickup.com/t/2575789/DEV-4440'),\n",
    "      dict(Task=\"Facebook Ads\", Start='2017-05-18', Finish='2017-06-18', Resource='🔥🔥🔥🔥', Description='https://app.clickup.com/t/2575789/DEV-5699'),\n",
    "      dict(Task=\"Shopify\", Start='2017-01-14', Finish='2017-03-14', Resource='🔥🔥', Description='https://app.clickup.com/t/2575789/DEV-4445')]\n",
    "\n",
    "colors = {'🔥🔥🔥🔥🔥': 'rgb(220, 0, 0)', \n",
    "          '🔥🔥🔥🔥': 'rgb(231, 84, 128)',\n",
    "          '🔥🔥🔥': 'rgb(255,230,0)',\n",
    "          '🔥🔥': 'rgb(255, 204, 0)',\n",
    "         '🔥': 'rgb(255,255,51)',\n",
    "         }\n",
    "\n",
    "fig = ff.create_gantt(df, colors=colors, index_col='Resource', show_colorbar=True,\n",
    "                      group_tasks=True)\n",
    "fig.show()"
   ]
  },
  {
   "cell_type": "code",
   "execution_count": 16,
   "id": "735491ce-b64b-4f0a-9498-980699a45477",
   "metadata": {},
   "outputs": [
    {
     "ename": "NameError",
     "evalue": "name 'go' is not defined",
     "output_type": "error",
     "traceback": [
      "\u001b[0;31m---------------------------------------------------------------------------\u001b[0m",
      "\u001b[0;31mNameError\u001b[0m                                 Traceback (most recent call last)",
      "\u001b[0;32m/var/folders/hs/90m5kvzd13v1n_qxqhl7pbw80000gn/T/ipykernel_2283/2657171014.py\u001b[0m in \u001b[0;36m<module>\u001b[0;34m\u001b[0m\n\u001b[1;32m      2\u001b[0m \u001b[0my\u001b[0m \u001b[0;34m=\u001b[0m \u001b[0;34m[\u001b[0m\u001b[0;36m100\u001b[0m\u001b[0;34m,\u001b[0m \u001b[0;36m40\u001b[0m\u001b[0;34m,\u001b[0m \u001b[0;36m60\u001b[0m\u001b[0;34m]\u001b[0m\u001b[0;34m\u001b[0m\u001b[0;34m\u001b[0m\u001b[0m\n\u001b[1;32m      3\u001b[0m \u001b[0;31m# Use the hovertext kw argument for hover text\u001b[0m\u001b[0;34m\u001b[0m\u001b[0;34m\u001b[0m\u001b[0;34m\u001b[0m\u001b[0m\n\u001b[0;32m----> 4\u001b[0;31m fig = go.Figure(data=[go.Bar(x=x, y=y,\n\u001b[0m\u001b[1;32m      5\u001b[0m             hovertext=['50 % Share', '20 % Share', '30 % Share'])])\n\u001b[1;32m      6\u001b[0m \u001b[0mfig\u001b[0m\u001b[0;34m.\u001b[0m\u001b[0mupdate_layout\u001b[0m\u001b[0;34m(\u001b[0m\u001b[0mtitle_text\u001b[0m\u001b[0;34m=\u001b[0m\u001b[0;34m'Sales Data'\u001b[0m\u001b[0;34m)\u001b[0m\u001b[0;34m\u001b[0m\u001b[0;34m\u001b[0m\u001b[0m\n",
      "\u001b[0;31mNameError\u001b[0m: name 'go' is not defined"
     ]
    }
   ],
   "source": [
    "x = ['Suzuki', 'Honda', 'Tata']\n",
    "y = [100, 40, 60]\n",
    "# Use the hovertext kw argument for hover text\n",
    "fig = go.Figure(data=[go.Bar(x=x, y=y,\n",
    "            hovertext=['50 % Share', '20 % Share', '30 % Share'])])\n",
    "fig.update_layout(title_text='Sales Data')\n",
    "fig.show()"
   ]
  },
  {
   "cell_type": "code",
   "execution_count": null,
   "id": "a9add5ea-41d6-4c34-af8b-212d68226e9d",
   "metadata": {},
   "outputs": [],
   "source": []
  }
 ],
 "metadata": {
  "kernelspec": {
   "display_name": "Python 3 (ipykernel)",
   "language": "python",
   "name": "python3"
  },
  "language_info": {
   "codemirror_mode": {
    "name": "ipython",
    "version": 3
   },
   "file_extension": ".py",
   "mimetype": "text/x-python",
   "name": "python",
   "nbconvert_exporter": "python",
   "pygments_lexer": "ipython3",
   "version": "3.9.4"
  }
 },
 "nbformat": 4,
 "nbformat_minor": 5
}
