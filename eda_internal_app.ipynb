{
 "cells": [
  {
   "cell_type": "code",
   "execution_count": 1,
   "id": "b8cabd49-7878-4577-9362-d5863182e2b9",
   "metadata": {},
   "outputs": [],
   "source": [
    "import pandas as pd\n",
    "import datetime as dt"
   ]
  },
  {
   "cell_type": "code",
   "execution_count": 113,
   "id": "a5e99774-7d13-4d05-b6cd-0952e8d8cb17",
   "metadata": {},
   "outputs": [],
   "source": [
    "df = pd.read_csv('data/y42_internal_app_mvp.csv')"
   ]
  },
  {
   "cell_type": "code",
   "execution_count": 114,
   "id": "2bc93f90-31ad-4733-a209-04a66cab088c",
   "metadata": {},
   "outputs": [
    {
     "name": "stderr",
     "output_type": "stream",
     "text": [
      "/var/folders/hs/90m5kvzd13v1n_qxqhl7pbw80000gn/T/ipykernel_92631/84571628.py:3: FutureWarning: Series.dt.weekofyear and Series.dt.week have been deprecated.  Please use Series.dt.isocalendar().week instead.\n",
      "  df['created_week'] = pd.to_datetime(df['date_created_ticket']).dt.week\n"
     ]
    }
   ],
   "source": [
    "df['created_quarter'] = pd.to_datetime(df['date_created_ticket']).dt.quarter\n",
    "df['created_month'] = pd.to_datetime(df['date_created_ticket']).dt.month\n",
    "df['created_week'] = pd.to_datetime(df['date_created_ticket']).dt.week"
   ]
  },
  {
   "cell_type": "code",
   "execution_count": 115,
   "id": "599e04bf-64b8-40c8-aef7-47b39e02c3e7",
   "metadata": {},
   "outputs": [
    {
     "name": "stderr",
     "output_type": "stream",
     "text": [
      "/var/folders/hs/90m5kvzd13v1n_qxqhl7pbw80000gn/T/ipykernel_92631/665786270.py:3: FutureWarning: Series.dt.weekofyear and Series.dt.week have been deprecated.  Please use Series.dt.isocalendar().week instead.\n",
      "  df['closed_week'] = pd.to_datetime(df['date_closed_ticket']).dt.week\n"
     ]
    }
   ],
   "source": [
    "df['closed_quarter'] = pd.to_datetime(df['date_closed_ticket']).dt.quarter\n",
    "df['closed_month'] = pd.to_datetime(df['date_closed_ticket']).dt.month\n",
    "df['closed_week'] = pd.to_datetime(df['date_closed_ticket']).dt.week"
   ]
  },
  {
   "cell_type": "code",
   "execution_count": 116,
   "id": "1f65058e-1446-4137-84fd-5e22e845b42b",
   "metadata": {},
   "outputs": [],
   "source": [
    "ticket_columns = list(df.columns)"
   ]
  },
  {
   "cell_type": "code",
   "execution_count": 117,
   "id": "d0792598-3d16-4060-a87a-00ffcedb125d",
   "metadata": {},
   "outputs": [],
   "source": [
    "for i in ['id', 'custom_id', 'text_content', 'tags', 'custom_fields', 'dependencies', 'list_id', 'folder_id', 'space_id', 'id_list','date_closed_ticket_month', 'date_created_ticket_month', 'orderindex_list', 'status_list', 'folder_id_list', 'statuses', 'task_count', 'folder_name']:\n",
    "    ticket_columns.remove(i)"
   ]
  },
  {
   "cell_type": "code",
   "execution_count": 118,
   "id": "78e30569-b98d-4878-a2e6-209b19694af1",
   "metadata": {},
   "outputs": [],
   "source": [
    "df = df[ticket_columns].copy()"
   ]
  },
  {
   "cell_type": "code",
   "execution_count": 119,
   "id": "4ccfa840-063f-4040-aacd-78be9e2b5cbd",
   "metadata": {},
   "outputs": [
    {
     "data": {
      "text/plain": [
       "['integration',\n",
       " 'description',\n",
       " 'time_estimate',\n",
       " 'time_spent',\n",
       " 'url',\n",
       " 'assigned_dev_new',\n",
       " 'folder_name',\n",
       " 'list_name',\n",
       " 'date_closed_ticket',\n",
       " 'date_created_ticket',\n",
       " 'date_updated_ticket',\n",
       " 'start_date_parsed',\n",
       " 'due_date_parsed',\n",
       " 'priority_rank',\n",
       " 'status_board',\n",
       " 'status_kind',\n",
       " 'created_quarter',\n",
       " 'created_month',\n",
       " 'created_week',\n",
       " 'closed_quarter',\n",
       " 'closed_month',\n",
       " 'closed_week']"
      ]
     },
     "execution_count": 119,
     "metadata": {},
     "output_type": "execute_result"
    }
   ],
   "source": [
    "ticket_columns"
   ]
  },
  {
   "cell_type": "code",
   "execution_count": 120,
   "id": "e869df52-50b6-4e06-8761-f5b46b17045b",
   "metadata": {},
   "outputs": [
    {
     "data": {
      "text/html": [
       "<div>\n",
       "<style scoped>\n",
       "    .dataframe tbody tr th:only-of-type {\n",
       "        vertical-align: middle;\n",
       "    }\n",
       "\n",
       "    .dataframe tbody tr th {\n",
       "        vertical-align: top;\n",
       "    }\n",
       "\n",
       "    .dataframe thead th {\n",
       "        text-align: right;\n",
       "    }\n",
       "</style>\n",
       "<table border=\"1\" class=\"dataframe\">\n",
       "  <thead>\n",
       "    <tr style=\"text-align: right;\">\n",
       "      <th></th>\n",
       "      <th>integration</th>\n",
       "      <th>description</th>\n",
       "      <th>time_estimate</th>\n",
       "      <th>time_spent</th>\n",
       "      <th>url</th>\n",
       "      <th>assigned_dev_new</th>\n",
       "      <th>folder_name</th>\n",
       "      <th>list_name</th>\n",
       "      <th>date_closed_ticket</th>\n",
       "      <th>date_created_ticket</th>\n",
       "      <th>...</th>\n",
       "      <th>due_date_parsed</th>\n",
       "      <th>priority_rank</th>\n",
       "      <th>status_board</th>\n",
       "      <th>status_kind</th>\n",
       "      <th>created_quarter</th>\n",
       "      <th>created_month</th>\n",
       "      <th>created_week</th>\n",
       "      <th>closed_quarter</th>\n",
       "      <th>closed_month</th>\n",
       "      <th>closed_week</th>\n",
       "    </tr>\n",
       "  </thead>\n",
       "  <tbody>\n",
       "    <tr>\n",
       "      <th>0</th>\n",
       "      <td>Youtube Analytics</td>\n",
       "      <td>NaN</td>\n",
       "      <td>NaN</td>\n",
       "      <td>NaN</td>\n",
       "      <td>https://app.clickup.com/t/1tjxf4t</td>\n",
       "      <td>Gerardo Tatzati</td>\n",
       "      <td>Integration</td>\n",
       "      <td>New Integrations</td>\n",
       "      <td>NaN</td>\n",
       "      <td>2021-11-18</td>\n",
       "      <td>...</td>\n",
       "      <td>NaN</td>\n",
       "      <td>2.0</td>\n",
       "      <td>to do</td>\n",
       "      <td>on schedule</td>\n",
       "      <td>4</td>\n",
       "      <td>11</td>\n",
       "      <td>46</td>\n",
       "      <td>NaN</td>\n",
       "      <td>NaN</td>\n",
       "      <td>NaN</td>\n",
       "    </tr>\n",
       "    <tr>\n",
       "      <th>1</th>\n",
       "      <td>Google sheets</td>\n",
       "      <td>We need to replace our custom google sheets im...</td>\n",
       "      <td>NaN</td>\n",
       "      <td>NaN</td>\n",
       "      <td>https://app.clickup.com/t/gt86au</td>\n",
       "      <td>Ardit Arapi</td>\n",
       "      <td>Integration</td>\n",
       "      <td>New Integrations</td>\n",
       "      <td>NaN</td>\n",
       "      <td>2021-04-07</td>\n",
       "      <td>...</td>\n",
       "      <td>NaN</td>\n",
       "      <td>1.0</td>\n",
       "      <td>to do</td>\n",
       "      <td>on schedule</td>\n",
       "      <td>2</td>\n",
       "      <td>4</td>\n",
       "      <td>14</td>\n",
       "      <td>NaN</td>\n",
       "      <td>NaN</td>\n",
       "      <td>NaN</td>\n",
       "    </tr>\n",
       "    <tr>\n",
       "      <th>2</th>\n",
       "      <td>get requirements for a good amazon integration</td>\n",
       "      <td>NaN</td>\n",
       "      <td>NaN</td>\n",
       "      <td>NaN</td>\n",
       "      <td>https://app.clickup.com/t/n59bp4</td>\n",
       "      <td>Florian Scherer</td>\n",
       "      <td>Integration</td>\n",
       "      <td>New Features</td>\n",
       "      <td>NaN</td>\n",
       "      <td>2021-06-28</td>\n",
       "      <td>...</td>\n",
       "      <td>NaN</td>\n",
       "      <td>NaN</td>\n",
       "      <td>to do</td>\n",
       "      <td>on schedule</td>\n",
       "      <td>2</td>\n",
       "      <td>6</td>\n",
       "      <td>26</td>\n",
       "      <td>NaN</td>\n",
       "      <td>NaN</td>\n",
       "      <td>NaN</td>\n",
       "    </tr>\n",
       "    <tr>\n",
       "      <th>3</th>\n",
       "      <td>INTEGRATION - SHOPIFY - Add new table \"giftcards\"</td>\n",
       "      <td>Our customer Oatsome is requesting a new table...</td>\n",
       "      <td>NaN</td>\n",
       "      <td>NaN</td>\n",
       "      <td>https://app.clickup.com/t/1nf7wkn</td>\n",
       "      <td>Geri Shehu</td>\n",
       "      <td>Integration</td>\n",
       "      <td>New Features</td>\n",
       "      <td>NaN</td>\n",
       "      <td>2021-10-20</td>\n",
       "      <td>...</td>\n",
       "      <td>NaN</td>\n",
       "      <td>4.0</td>\n",
       "      <td>to do</td>\n",
       "      <td>on schedule</td>\n",
       "      <td>4</td>\n",
       "      <td>10</td>\n",
       "      <td>42</td>\n",
       "      <td>NaN</td>\n",
       "      <td>NaN</td>\n",
       "      <td>NaN</td>\n",
       "    </tr>\n",
       "    <tr>\n",
       "      <th>4</th>\n",
       "      <td>BigQuery import without touching our servers w...</td>\n",
       "      <td>NaN</td>\n",
       "      <td>NaN</td>\n",
       "      <td>NaN</td>\n",
       "      <td>https://app.clickup.com/t/k76cm7</td>\n",
       "      <td>cs</td>\n",
       "      <td>Integration</td>\n",
       "      <td>New Features</td>\n",
       "      <td>NaN</td>\n",
       "      <td>2021-05-21</td>\n",
       "      <td>...</td>\n",
       "      <td>2021-08-30</td>\n",
       "      <td>3.0</td>\n",
       "      <td>to do</td>\n",
       "      <td>on schedule</td>\n",
       "      <td>2</td>\n",
       "      <td>5</td>\n",
       "      <td>20</td>\n",
       "      <td>NaN</td>\n",
       "      <td>NaN</td>\n",
       "      <td>NaN</td>\n",
       "    </tr>\n",
       "  </tbody>\n",
       "</table>\n",
       "<p>5 rows × 22 columns</p>\n",
       "</div>"
      ],
      "text/plain": [
       "                                         integration  \\\n",
       "0                                  Youtube Analytics   \n",
       "1                                      Google sheets   \n",
       "2     get requirements for a good amazon integration   \n",
       "3  INTEGRATION - SHOPIFY - Add new table \"giftcards\"   \n",
       "4  BigQuery import without touching our servers w...   \n",
       "\n",
       "                                         description  time_estimate  \\\n",
       "0                                                NaN            NaN   \n",
       "1  We need to replace our custom google sheets im...            NaN   \n",
       "2                                                NaN            NaN   \n",
       "3  Our customer Oatsome is requesting a new table...            NaN   \n",
       "4                                                NaN            NaN   \n",
       "\n",
       "   time_spent                                url assigned_dev_new  \\\n",
       "0         NaN  https://app.clickup.com/t/1tjxf4t  Gerardo Tatzati   \n",
       "1         NaN   https://app.clickup.com/t/gt86au      Ardit Arapi   \n",
       "2         NaN   https://app.clickup.com/t/n59bp4  Florian Scherer   \n",
       "3         NaN  https://app.clickup.com/t/1nf7wkn       Geri Shehu   \n",
       "4         NaN   https://app.clickup.com/t/k76cm7               cs   \n",
       "\n",
       "   folder_name         list_name date_closed_ticket date_created_ticket  ...  \\\n",
       "0  Integration  New Integrations                NaN          2021-11-18  ...   \n",
       "1  Integration  New Integrations                NaN          2021-04-07  ...   \n",
       "2  Integration      New Features                NaN          2021-06-28  ...   \n",
       "3  Integration      New Features                NaN          2021-10-20  ...   \n",
       "4  Integration      New Features                NaN          2021-05-21  ...   \n",
       "\n",
       "  due_date_parsed priority_rank status_board  status_kind created_quarter  \\\n",
       "0             NaN           2.0        to do  on schedule               4   \n",
       "1             NaN           1.0        to do  on schedule               2   \n",
       "2             NaN           NaN        to do  on schedule               2   \n",
       "3             NaN           4.0        to do  on schedule               4   \n",
       "4      2021-08-30           3.0        to do  on schedule               2   \n",
       "\n",
       "  created_month  created_week  closed_quarter  closed_month  closed_week  \n",
       "0            11            46             NaN           NaN          NaN  \n",
       "1             4            14             NaN           NaN          NaN  \n",
       "2             6            26             NaN           NaN          NaN  \n",
       "3            10            42             NaN           NaN          NaN  \n",
       "4             5            20             NaN           NaN          NaN  \n",
       "\n",
       "[5 rows x 22 columns]"
      ]
     },
     "execution_count": 120,
     "metadata": {},
     "output_type": "execute_result"
    }
   ],
   "source": [
    "df.head()"
   ]
  },
  {
   "cell_type": "markdown",
   "id": "cec68e8b-f530-4015-b7d9-bcecdb449221",
   "metadata": {},
   "source": [
    "## Integrations"
   ]
  },
  {
   "cell_type": "code",
   "execution_count": 5,
   "id": "09f87f07-d84f-4557-ac9f-e31c3825f08a",
   "metadata": {},
   "outputs": [
    {
     "data": {
      "text/html": [
       "<div>\n",
       "<style scoped>\n",
       "    .dataframe tbody tr th:only-of-type {\n",
       "        vertical-align: middle;\n",
       "    }\n",
       "\n",
       "    .dataframe tbody tr th {\n",
       "        vertical-align: top;\n",
       "    }\n",
       "\n",
       "    .dataframe thead th {\n",
       "        text-align: right;\n",
       "    }\n",
       "</style>\n",
       "<table border=\"1\" class=\"dataframe\">\n",
       "  <thead>\n",
       "    <tr style=\"text-align: right;\">\n",
       "      <th></th>\n",
       "      <th>ClickUp Task ID</th>\n",
       "      <th>Task Name</th>\n",
       "      <th>IntegrationType</th>\n",
       "      <th>Singer Tap</th>\n",
       "      <th>Forked</th>\n",
       "      <th>Original Github Repo</th>\n",
       "      <th>Our Forked Tap</th>\n",
       "      <th>Tap License</th>\n",
       "      <th>Auth\\nScope</th>\n",
       "      <th>Has Account Select</th>\n",
       "      <th>...</th>\n",
       "      <th>Unnamed: 34</th>\n",
       "      <th>Unnamed: 35</th>\n",
       "      <th>Unnamed: 36</th>\n",
       "      <th>Unnamed: 37</th>\n",
       "      <th>Unnamed: 38</th>\n",
       "      <th>Unnamed: 39</th>\n",
       "      <th>Unnamed: 40</th>\n",
       "      <th>Unnamed: 41</th>\n",
       "      <th>Unnamed: 42</th>\n",
       "      <th>Forked?</th>\n",
       "    </tr>\n",
       "  </thead>\n",
       "  <tbody>\n",
       "    <tr>\n",
       "      <th>0</th>\n",
       "      <td>INT-243</td>\n",
       "      <td>Airtable</td>\n",
       "      <td>airtable</td>\n",
       "      <td>tap-airtable</td>\n",
       "      <td>forked</td>\n",
       "      <td>aimementoring/tap-airtable</td>\n",
       "      <td>https://github.com/goes-funky/tap-airtable</td>\n",
       "      <td>forked from aimementoring/tap-airtable\\n\\nNo l...</td>\n",
       "      <td>airtable</td>\n",
       "      <td>0.0</td>\n",
       "      <td>...</td>\n",
       "      <td>NaN</td>\n",
       "      <td>NaN</td>\n",
       "      <td>NaN</td>\n",
       "      <td>NaN</td>\n",
       "      <td>NaN</td>\n",
       "      <td>NaN</td>\n",
       "      <td>NaN</td>\n",
       "      <td>NaN</td>\n",
       "      <td>NaN</td>\n",
       "      <td>NaN</td>\n",
       "    </tr>\n",
       "    <tr>\n",
       "      <th>1</th>\n",
       "      <td>INT-107</td>\n",
       "      <td>Amazon advertising API</td>\n",
       "      <td>amazon-advertising</td>\n",
       "      <td>tap-amazon-advertising</td>\n",
       "      <td>forked</td>\n",
       "      <td>dbt-labs/tap-amazon-advertising</td>\n",
       "      <td>https://github.com/goes-funky/tap-amazon-adver...</td>\n",
       "      <td>Apache License 2.0</td>\n",
       "      <td>NaN</td>\n",
       "      <td>1.0</td>\n",
       "      <td>...</td>\n",
       "      <td>NaN</td>\n",
       "      <td>NaN</td>\n",
       "      <td>NaN</td>\n",
       "      <td>NaN</td>\n",
       "      <td>NaN</td>\n",
       "      <td>NaN</td>\n",
       "      <td>NaN</td>\n",
       "      <td>NaN</td>\n",
       "      <td>NaN</td>\n",
       "      <td>NaN</td>\n",
       "    </tr>\n",
       "    <tr>\n",
       "      <th>2</th>\n",
       "      <td>INT-97</td>\n",
       "      <td>Amazon Seller Central</td>\n",
       "      <td>amazon-sp</td>\n",
       "      <td>tap-amazon-sp</td>\n",
       "      <td>from scratch</td>\n",
       "      <td>NaN</td>\n",
       "      <td>NaN</td>\n",
       "      <td>GNU Affero General Public License v3.0</td>\n",
       "      <td>NaN</td>\n",
       "      <td>0.0</td>\n",
       "      <td>...</td>\n",
       "      <td>NaN</td>\n",
       "      <td>NaN</td>\n",
       "      <td>NaN</td>\n",
       "      <td>NaN</td>\n",
       "      <td>NaN</td>\n",
       "      <td>NaN</td>\n",
       "      <td>NaN</td>\n",
       "      <td>NaN</td>\n",
       "      <td>NaN</td>\n",
       "      <td>NaN</td>\n",
       "    </tr>\n",
       "    <tr>\n",
       "      <th>3</th>\n",
       "      <td>INT-565</td>\n",
       "      <td>Apple Search Ads</td>\n",
       "      <td>apple-search-ads</td>\n",
       "      <td>tap-apple-search-ads</td>\n",
       "      <td>from scratch</td>\n",
       "      <td>NaN</td>\n",
       "      <td>NaN</td>\n",
       "      <td>NaN</td>\n",
       "      <td>NaN</td>\n",
       "      <td>0.0</td>\n",
       "      <td>...</td>\n",
       "      <td>NaN</td>\n",
       "      <td>NaN</td>\n",
       "      <td>NaN</td>\n",
       "      <td>NaN</td>\n",
       "      <td>NaN</td>\n",
       "      <td>NaN</td>\n",
       "      <td>NaN</td>\n",
       "      <td>NaN</td>\n",
       "      <td>NaN</td>\n",
       "      <td>NaN</td>\n",
       "    </tr>\n",
       "    <tr>\n",
       "      <th>4</th>\n",
       "      <td>INT-632</td>\n",
       "      <td>Asana</td>\n",
       "      <td>asana</td>\n",
       "      <td>tap-asana</td>\n",
       "      <td>forked</td>\n",
       "      <td>singer-io/tap-asana</td>\n",
       "      <td>https://github.com/goes-funky/tap-asana</td>\n",
       "      <td>GNU Affero General Public License v3.0</td>\n",
       "      <td>NaN</td>\n",
       "      <td>0.0</td>\n",
       "      <td>...</td>\n",
       "      <td>NaN</td>\n",
       "      <td>NaN</td>\n",
       "      <td>NaN</td>\n",
       "      <td>NaN</td>\n",
       "      <td>NaN</td>\n",
       "      <td>NaN</td>\n",
       "      <td>NaN</td>\n",
       "      <td>NaN</td>\n",
       "      <td>NaN</td>\n",
       "      <td>NaN</td>\n",
       "    </tr>\n",
       "  </tbody>\n",
       "</table>\n",
       "<p>5 rows × 44 columns</p>\n",
       "</div>"
      ],
      "text/plain": [
       "  ClickUp Task ID               Task Name     IntegrationType  \\\n",
       "0         INT-243                Airtable            airtable   \n",
       "1         INT-107  Amazon advertising API  amazon-advertising   \n",
       "2          INT-97   Amazon Seller Central           amazon-sp   \n",
       "3         INT-565        Apple Search Ads    apple-search-ads   \n",
       "4         INT-632                   Asana               asana   \n",
       "\n",
       "               Singer Tap        Forked             Original Github Repo  \\\n",
       "0            tap-airtable        forked       aimementoring/tap-airtable   \n",
       "1  tap-amazon-advertising        forked  dbt-labs/tap-amazon-advertising   \n",
       "2           tap-amazon-sp  from scratch                              NaN   \n",
       "3    tap-apple-search-ads  from scratch                              NaN   \n",
       "4               tap-asana        forked              singer-io/tap-asana   \n",
       "\n",
       "                                      Our Forked Tap  \\\n",
       "0         https://github.com/goes-funky/tap-airtable   \n",
       "1  https://github.com/goes-funky/tap-amazon-adver...   \n",
       "2                                                NaN   \n",
       "3                                                NaN   \n",
       "4            https://github.com/goes-funky/tap-asana   \n",
       "\n",
       "                                         Tap License Auth\\nScope  \\\n",
       "0  forked from aimementoring/tap-airtable\\n\\nNo l...    airtable   \n",
       "1                                 Apache License 2.0         NaN   \n",
       "2             GNU Affero General Public License v3.0         NaN   \n",
       "3                                                NaN         NaN   \n",
       "4             GNU Affero General Public License v3.0         NaN   \n",
       "\n",
       "   Has Account Select  ... Unnamed: 34  Unnamed: 35  Unnamed: 36 Unnamed: 37  \\\n",
       "0                 0.0  ...         NaN          NaN          NaN         NaN   \n",
       "1                 1.0  ...         NaN          NaN          NaN         NaN   \n",
       "2                 0.0  ...         NaN          NaN          NaN         NaN   \n",
       "3                 0.0  ...         NaN          NaN          NaN         NaN   \n",
       "4                 0.0  ...         NaN          NaN          NaN         NaN   \n",
       "\n",
       "  Unnamed: 38 Unnamed: 39  Unnamed: 40  Unnamed: 41  Unnamed: 42  Forked?  \n",
       "0         NaN         NaN          NaN          NaN          NaN      NaN  \n",
       "1         NaN         NaN          NaN          NaN          NaN      NaN  \n",
       "2         NaN         NaN          NaN          NaN          NaN      NaN  \n",
       "3         NaN         NaN          NaN          NaN          NaN      NaN  \n",
       "4         NaN         NaN          NaN          NaN          NaN      NaN  \n",
       "\n",
       "[5 rows x 44 columns]"
      ]
     },
     "execution_count": 5,
     "metadata": {},
     "output_type": "execute_result"
    }
   ],
   "source": [
    "df_inte = pd.read_csv(\"data/Y42 - Deployed Integrations - Y 42 - Deployed Integrations.csv\")\n",
    "df_inte.head()"
   ]
  },
  {
   "cell_type": "code",
   "execution_count": 6,
   "id": "1f0a4799-7025-4df4-99b2-1ff77901b5b4",
   "metadata": {},
   "outputs": [],
   "source": [
    "new_inte = ['Mailchimp', 'YouTube Reporting', 'Instagram', 'ClickUp', 'Xero']"
   ]
  },
  {
   "cell_type": "code",
   "execution_count": 73,
   "id": "04a0a024-dfce-4dce-af85-57a37ee5aa4a",
   "metadata": {},
   "outputs": [],
   "source": [
    "df.integration = df.integration.apply(lambda x: x.lower())"
   ]
  },
  {
   "cell_type": "code",
   "execution_count": 64,
   "id": "44b7a334-7fdf-4ae5-8de4-f823eb90df8a",
   "metadata": {},
   "outputs": [],
   "source": [
    "y42_integrations = list(df_inte['Task Name'])"
   ]
  },
  {
   "cell_type": "code",
   "execution_count": 65,
   "id": "e624da32-f752-47bd-b5be-4a04575a77dd",
   "metadata": {},
   "outputs": [],
   "source": [
    "del y42_integrations[-3]"
   ]
  },
  {
   "cell_type": "code",
   "execution_count": 66,
   "id": "5be72be2-7f23-499e-acb8-c7e83bff5774",
   "metadata": {},
   "outputs": [
    {
     "name": "stdout",
     "output_type": "stream",
     "text": [
      "Mailchimp\n",
      "YouTube Reporting\n",
      "ClickUp\n"
     ]
    }
   ],
   "source": [
    "for i in new_inte:\n",
    "    if i not in y42_integrations and i.lower() not in y42_integrations:\n",
    "        y42_integrations.append(i)\n",
    "        print(i)"
   ]
  },
  {
   "cell_type": "code",
   "execution_count": 77,
   "id": "b870e5cc-7afd-4e7f-8a49-5d3bcbac4619",
   "metadata": {},
   "outputs": [],
   "source": [
    "y42_integrations = [i.lower() for i in y42_integrations]"
   ]
  },
  {
   "cell_type": "code",
   "execution_count": 69,
   "id": "a15ccc71-6687-46cf-835b-506f9b53d0a2",
   "metadata": {},
   "outputs": [],
   "source": [
    "y42_integrations[-2] = 'YouTube' "
   ]
  },
  {
   "cell_type": "code",
   "execution_count": 78,
   "id": "da7936bd-d497-45ae-b8b4-8e8464a598e2",
   "metadata": {
    "collapsed": true,
    "jupyter": {
     "outputs_hidden": true
    },
    "tags": []
   },
   "outputs": [
    {
     "data": {
      "text/plain": [
       "['airtable',\n",
       " 'amazon advertising api',\n",
       " 'amazon seller central',\n",
       " 'apple search ads',\n",
       " 'asana',\n",
       " 'azure data storage',\n",
       " 'azure sql',\n",
       " 'bing ads',\n",
       " 'braintree',\n",
       " 'chargebee',\n",
       " 'cloud storage',\n",
       " 'criteo',\n",
       " 'csv',\n",
       " 'datos survey',\n",
       " 'exchange rate api',\n",
       " 'facebook ads',\n",
       " 'facebook pages',\n",
       " 'file cloud',\n",
       " 'freshdesk',\n",
       " 'freshsales',\n",
       " 'google adwords',\n",
       " 'google analytics',\n",
       " 'google bigquery',\n",
       " 'google sheets',\n",
       " 'hubspot',\n",
       " 'instagram',\n",
       " 'klaviyo',\n",
       " 'lever',\n",
       " 'linkedin ads',\n",
       " 'mongo db',\n",
       " 'mysql',\n",
       " 'netsuite',\n",
       " 'office 365 sharepoint',\n",
       " 'outbrain',\n",
       " 'paypal',\n",
       " 'pinterest ads',\n",
       " 'pipedrive',\n",
       " 'postgres',\n",
       " 'recharge',\n",
       " 's3',\n",
       " 'salesforce',\n",
       " 'sap',\n",
       " 'sftp',\n",
       " 'shopify',\n",
       " 'snapchat',\n",
       " 'stripe',\n",
       " 'taboola',\n",
       " 'tiktok',\n",
       " 'twitter ads',\n",
       " 'typeform',\n",
       " 'xero',\n",
       " 'xlsx',\n",
       " 'yahoo gemini',\n",
       " 'zendesk',\n",
       " 'mssql',\n",
       " 'postgres',\n",
       " 'mailchimp',\n",
       " 'youtube',\n",
       " 'clickup']"
      ]
     },
     "execution_count": 78,
     "metadata": {},
     "output_type": "execute_result"
    }
   ],
   "source": [
    "y42_integrations"
   ]
  },
  {
   "cell_type": "code",
   "execution_count": 136,
   "id": "3c292e86-45c9-44a2-853b-abd708fb182d",
   "metadata": {},
   "outputs": [],
   "source": [
    "def search_integration(text, integration_list):\n",
    "    for integration in integration_list:\n",
    "        if integration in text:\n",
    "            return integration"
   ]
  },
  {
   "cell_type": "code",
   "execution_count": 139,
   "id": "8593a54a-327b-4bc9-b11e-f00f5fc4d159",
   "metadata": {},
   "outputs": [
    {
     "name": "stdout",
     "output_type": "stream",
     "text": [
      "youtube\n"
     ]
    }
   ],
   "source": [
    "integration_list = ['youtube reporting', 'google sheets', 'xero']\n",
    "print(search_integration('youtube reporting', y42_integrations))"
   ]
  },
  {
   "cell_type": "code",
   "execution_count": 143,
   "id": "31c9adf4-15dc-427d-9ce8-f2e5f41bcff0",
   "metadata": {},
   "outputs": [],
   "source": [
    "df['integration'] = df['integration'].apply(lambda x: x.lower())\n",
    "df['integrations_extracted'] = df['integration'].apply(search_integration, integration_list=y42_integrations)"
   ]
  },
  {
   "cell_type": "code",
   "execution_count": 144,
   "id": "ae47c576-3c81-4add-91ed-7f8a7ce9cbed",
   "metadata": {},
   "outputs": [
    {
     "data": {
      "text/plain": [
       "0             youtube\n",
       "1       google sheets\n",
       "2                None\n",
       "3             shopify\n",
       "4                None\n",
       "            ...      \n",
       "302          netsuite\n",
       "303          snapchat\n",
       "304          airtable\n",
       "305    facebook pages\n",
       "306           hubspot\n",
       "Name: integrations_extracted, Length: 307, dtype: object"
      ]
     },
     "execution_count": 144,
     "metadata": {},
     "output_type": "execute_result"
    }
   ],
   "source": [
    "df['integrations_extracted']"
   ]
  },
  {
   "cell_type": "code",
   "execution_count": null,
   "id": "51daa8b1-eea6-4454-be72-9dcd1f6f82ce",
   "metadata": {},
   "outputs": [],
   "source": []
  }
 ],
 "metadata": {
  "kernelspec": {
   "display_name": "Python 3 (ipykernel)",
   "language": "python",
   "name": "python3"
  },
  "language_info": {
   "codemirror_mode": {
    "name": "ipython",
    "version": 3
   },
   "file_extension": ".py",
   "mimetype": "text/x-python",
   "name": "python",
   "nbconvert_exporter": "python",
   "pygments_lexer": "ipython3",
   "version": "3.9.4"
  }
 },
 "nbformat": 4,
 "nbformat_minor": 5
}
